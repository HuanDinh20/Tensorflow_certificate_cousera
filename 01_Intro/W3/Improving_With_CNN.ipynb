{
 "cells": [
  {
   "cell_type": "code",
   "execution_count": 1,
   "outputs": [],
   "source": [
    "import tensorflow as tf\n",
    "from keras.datasets import fashion_mnist\n",
    "from keras.layers import Conv2D, MaxPooling2D, Dense, Flatten\n",
    "(training_images, training_labels), (test_images, test_labels) = fashion_mnist.load_data()\n",
    "# Normalize the pixel values\n",
    "training_images = training_images / 255.0\n",
    "test_images = test_images / 255.0"
   ],
   "metadata": {
    "collapsed": false,
    "pycharm": {
     "name": "#%%\n"
    }
   }
  },
  {
   "cell_type": "code",
   "execution_count": 6,
   "outputs": [
    {
     "name": "stdout",
     "output_type": "stream",
     "text": [
      "Model: \"sequential_1\"\n",
      "_________________________________________________________________\n",
      " Layer (type)                Output Shape              Param #   \n",
      "=================================================================\n",
      " conv2d_2 (Conv2D)           (None, 26, 26, 64)        640       \n",
      "                                                                 \n",
      " max_pooling2d_2 (MaxPooling  (None, 13, 13, 64)       0         \n",
      " 2D)                                                             \n",
      "                                                                 \n",
      " conv2d_3 (Conv2D)           (None, 11, 11, 32)        18464     \n",
      "                                                                 \n",
      " max_pooling2d_3 (MaxPooling  (None, 5, 5, 32)         0         \n",
      " 2D)                                                             \n",
      "                                                                 \n",
      " flatten_1 (Flatten)         (None, 800)               0         \n",
      "                                                                 \n",
      " dense_2 (Dense)             (None, 128)               102528    \n",
      "                                                                 \n",
      " dense_3 (Dense)             (None, 10)                1290      \n",
      "                                                                 \n",
      "=================================================================\n",
      "Total params: 122,922\n",
      "Trainable params: 122,922\n",
      "Non-trainable params: 0\n",
      "_________________________________________________________________\n"
     ]
    }
   ],
   "source": [
    "from keras import Sequential\n",
    "model = Sequential([\n",
    "    Conv2D(64, (3, 3), activation = \"relu\", input_shape=(28, 28, 1)),\n",
    "    MaxPooling2D(2, 2),\n",
    "    Conv2D(32, (3, 3), activation = \"relu\"),\n",
    "    MaxPooling2D(2, 2),\n",
    "    Flatten(),\n",
    "    Dense(128, activation = \"relu\"),\n",
    "    Dense(10, activation = \"softmax\")\n",
    "])\n",
    "model.summary()"
   ],
   "metadata": {
    "collapsed": false,
    "pycharm": {
     "name": "#%%\n"
    }
   }
  },
  {
   "cell_type": "code",
   "execution_count": 7,
   "outputs": [
    {
     "name": "stdout",
     "output_type": "stream",
     "text": [
      "Epoch 1/5\n",
      "1875/1875 [==============================] - 26s 14ms/step - loss: 0.4599 - accuracy: 0.8312\n",
      "Epoch 2/5\n",
      "1875/1875 [==============================] - 27s 15ms/step - loss: 0.3089 - accuracy: 0.8871\n",
      "Epoch 3/5\n",
      "1875/1875 [==============================] - 27s 15ms/step - loss: 0.2654 - accuracy: 0.9006\n",
      "Epoch 4/5\n",
      "1875/1875 [==============================] - 26s 14ms/step - loss: 0.2356 - accuracy: 0.9122\n",
      "Epoch 5/5\n",
      "1875/1875 [==============================] - 27s 14ms/step - loss: 0.2109 - accuracy: 0.9217\n",
      "313/313 [==============================] - 2s 5ms/step - loss: 0.2651 - accuracy: 0.9019\n"
     ]
    }
   ],
   "source": [
    "model.compile(optimizer=\"adam\", loss=\"sparse_categorical_crossentropy\", metrics=['accuracy'])\n",
    "model.fit(training_images, training_labels, epochs=5)\n",
    "test_loss = model.evaluate(test_images, test_labels)"
   ],
   "metadata": {
    "collapsed": false,
    "pycharm": {
     "name": "#%%\n"
    }
   }
  },
  {
   "cell_type": "code",
   "execution_count": 8,
   "outputs": [
    {
     "data": {
      "text/plain": "[0.26505035161972046, 0.9018999934196472]"
     },
     "execution_count": 8,
     "metadata": {},
     "output_type": "execute_result"
    }
   ],
   "source": [
    "test_loss"
   ],
   "metadata": {
    "collapsed": false,
    "pycharm": {
     "name": "#%%\n"
    }
   }
  },
  {
   "cell_type": "markdown",
   "source": [
    "By specifying (2,2) for the MaxPooling, the effect is to quarter the size of the image"
   ],
   "metadata": {
    "collapsed": false,
    "pycharm": {
     "name": "#%% md\n"
    }
   }
  },
  {
   "cell_type": "markdown",
   "source": [
    "## About overfitting"
   ],
   "metadata": {
    "collapsed": false,
    "pycharm": {
     "name": "#%% md\n"
    }
   }
  },
  {
   "cell_type": "markdown",
   "source": [
    "### Visualizing the Convolutions and Pooling"
   ],
   "metadata": {
    "collapsed": false,
    "pycharm": {
     "name": "#%% md\n"
    }
   }
  },
  {
   "cell_type": "code",
   "execution_count": null,
   "outputs": [],
   "source": [
    "import matplotlib.pyplot as plt\n",
    "from tensorflow.keras import models\n",
    "\n"
   ],
   "metadata": {
    "collapsed": false,
    "pycharm": {
     "name": "#%%\n",
     "is_executing": true
    }
   }
  },
  {
   "cell_type": "code",
   "execution_count": 5,
   "outputs": [
    {
     "data": {
      "text/plain": "[<keras.layers.convolutional.Conv2D at 0x23c057fb340>,\n <keras.layers.pooling.MaxPooling2D at 0x23c057fb310>,\n <keras.layers.convolutional.Conv2D at 0x23c0879e400>,\n <keras.layers.pooling.MaxPooling2D at 0x23c08782b50>,\n <keras.layers.core.flatten.Flatten at 0x23c0879e520>,\n <keras.layers.core.dense.Dense at 0x23c0879eb80>,\n <keras.layers.core.dense.Dense at 0x23c0879edc0>]"
     },
     "execution_count": 5,
     "metadata": {},
     "output_type": "execute_result"
    }
   ],
   "source": [
    "model.layers"
   ],
   "metadata": {
    "collapsed": false,
    "pycharm": {
     "name": "#%%\n"
    }
   }
  },
  {
   "cell_type": "code",
   "execution_count": 7,
   "outputs": [
    {
     "data": {
      "text/plain": "['_self_setattr_tracking',\n '_instrumented_keras_api',\n '_instrumented_keras_layer_class',\n '_instrumented_keras_model_class',\n '_trainable',\n '_stateful',\n '_input_spec',\n '_build_input_shape',\n '_saved_model_inputs_spec',\n '_saved_model_arg_spec',\n '_supports_masking',\n '_name',\n '_activity_regularizer',\n '_trainable_weights',\n '_non_trainable_weights',\n '_updates',\n '_thread_local',\n '_callable_losses',\n '_losses',\n '_metrics',\n '_metrics_lock',\n '_dtype_policy',\n '_compute_dtype_object',\n '_autocast',\n '_self_tracked_trackables',\n '_inbound_nodes_value',\n '_outbound_nodes_value',\n '_expects_training_arg',\n '_default_training_arg',\n '_expects_mask_arg',\n '_dynamic',\n '_batch_input_shape',\n '_initial_weights',\n '_auto_track_sub_layers',\n '_preserve_input_structure_in_config',\n '_outer_name_scope',\n '_obj_reference_counts_dict',\n 'rank',\n 'filters',\n 'groups',\n 'kernel_size',\n 'strides',\n 'padding',\n 'data_format',\n 'dilation_rate',\n 'activation',\n 'use_bias',\n 'kernel_initializer',\n 'bias_initializer',\n 'kernel_regularizer',\n 'bias_regularizer',\n 'kernel_constraint',\n 'bias_constraint',\n '_is_causal',\n '_channels_first',\n '_tf_data_format',\n '_self_unconditional_checkpoint_dependencies',\n '_self_unconditional_dependency_names',\n '_self_unconditional_deferred_dependencies',\n '_self_update_uid',\n '_self_name_based_restores',\n '_self_saveable_object_factories',\n 'kernel',\n 'bias',\n 'built',\n '__module__',\n '__doc__',\n '__init__',\n '_keras_api_names',\n '_keras_api_names_v1',\n '_validate_init',\n 'build',\n 'convolution_op',\n 'call',\n '_spatial_output_shape',\n 'compute_output_shape',\n '_recreate_conv_op',\n 'get_config',\n '_compute_causal_padding',\n '_get_channel_axis',\n '_get_input_channel',\n '_get_padding_op',\n '_TF_MODULE_IGNORED_PROPERTIES',\n '_must_restore_from_config',\n '_get_cell_name',\n '_instrument_layer_creation',\n '_add_trackable',\n 'add_weight',\n 'from_config',\n 'compute_output_signature',\n '_keras_tensor_symbolic_call',\n '_infer_output_signature',\n 'compute_mask',\n '__call__',\n '_functional_construction_call',\n '_set_training_mode',\n '_autographed_call',\n 'dtype',\n 'name',\n 'supports_masking',\n 'dynamic',\n 'stateful',\n 'trainable',\n 'activity_regularizer',\n 'input_spec',\n 'trainable_weights',\n 'non_trainable_weights',\n 'weights',\n 'updates',\n 'losses',\n 'add_loss',\n '_clear_losses',\n 'metrics',\n 'add_metric',\n 'add_update',\n 'set_weights',\n 'get_weights',\n 'finalize_state',\n 'get_updates_for',\n 'get_losses_for',\n 'get_input_mask_at',\n 'get_output_mask_at',\n 'input_mask',\n 'output_mask',\n 'get_input_shape_at',\n 'get_output_shape_at',\n 'get_input_at',\n 'get_output_at',\n 'input',\n 'output',\n 'input_shape',\n 'count_params',\n 'output_shape',\n 'inbound_nodes',\n 'outbound_nodes',\n 'apply',\n 'add_variable',\n 'variables',\n 'trainable_variables',\n 'non_trainable_variables',\n '_inbound_nodes',\n '_outbound_nodes',\n '_set_dtype_policy',\n 'dtype_policy',\n 'compute_dtype',\n '_compute_dtype',\n 'variable_dtype',\n '_maybe_cast_inputs',\n '_should_cast_single_input',\n '_cast_single_input',\n '_dtype',\n '_name_scope',\n '_init_set_name',\n '_get_existing_metric',\n '_handle_weight_regularization',\n '_handle_activity_regularization',\n '_set_mask_metadata',\n '_set_mask_keras_history_checked',\n '_get_input_masks',\n '_call_arg_was_passed',\n '_get_call_arg_value',\n '_set_call_arg_value',\n '_set_connectivity_metadata',\n '_get_node_attribute_at_index',\n '_maybe_build',\n '_symbolic_call',\n '_get_trainable_state',\n '_set_trainable_state',\n '_obj_reference_counts',\n '_maybe_create_attribute',\n '__delattr__',\n '__setattr__',\n '_gather_children_attribute',\n '_flatten_layers',\n '_flatten_modules',\n '_is_layer',\n '_init_call_fn_args',\n '_call_full_argspec',\n '_call_fn_args',\n '_call_fn_arg_defaults',\n '_call_fn_arg_positions',\n '_call_accepts_kwargs',\n '_eager_losses',\n '_dedup_weights',\n '_split_out_first_arg',\n '_set_save_spec',\n '_get_save_spec',\n '_trackable_saved_model_saver',\n '_object_identifier',\n '_tracking_metadata',\n '_list_extra_dependencies_for_serialization',\n '_list_functions_for_serialization',\n '_use_input_spec_as_call_signature',\n '__getstate__',\n '__setstate__',\n 'name_scope',\n 'submodules',\n '_flatten',\n 'with_name_scope',\n '_tf_api_names',\n '_tf_api_names_v1',\n '_no_dependency',\n '_delete_tracking',\n '_add_trackable_child',\n '_setattr_tracking',\n '_update_uid',\n '_unconditional_checkpoint_dependencies',\n '_unconditional_dependency_names',\n '_name_based_restores',\n '_maybe_initialize_trackable',\n '_name_based_attribute_restore',\n '_checkpoint_dependencies',\n '_deferred_dependencies',\n '_lookup_dependency',\n '_add_variable_with_custom_getter',\n '_preload_simple_restoration',\n '_track_trackable',\n '_handle_deferred_dependencies',\n '_restore_from_checkpoint_position',\n '_single_restoration_from_checkpoint_position',\n '_gather_saveables_for_checkpoint',\n '_map_resources',\n '_serialize_to_proto',\n '_deserialize_from_proto',\n '_deserialization_dependencies',\n '_trackable_children',\n '_get_legacy_saved_model_children',\n '__dict__',\n '__weakref__',\n '__repr__',\n '__hash__',\n '__str__',\n '__getattribute__',\n '__lt__',\n '__le__',\n '__eq__',\n '__ne__',\n '__gt__',\n '__ge__',\n '__new__',\n '__reduce_ex__',\n '__reduce__',\n '__subclasshook__',\n '__init_subclass__',\n '__format__',\n '__sizeof__',\n '__dir__',\n '__class__']"
     },
     "execution_count": 7,
     "metadata": {},
     "output_type": "execute_result"
    }
   ],
   "source": [
    "model.layers[0].__dir__()"
   ],
   "metadata": {
    "collapsed": false,
    "pycharm": {
     "name": "#%%\n"
    }
   }
  },
  {
   "cell_type": "code",
   "execution_count": 11,
   "outputs": [
    {
     "data": {
      "text/plain": "<KerasTensor: shape=(None, 26, 26, 64) dtype=float32 (created by layer 'conv2d')>"
     },
     "execution_count": 11,
     "metadata": {},
     "output_type": "execute_result"
    }
   ],
   "source": [
    "model.layers[0].output"
   ],
   "metadata": {
    "collapsed": false,
    "pycharm": {
     "name": "#%%\n"
    }
   }
  },
  {
   "cell_type": "code",
   "execution_count": 10,
   "outputs": [],
   "source": [
    "layer_outputs = [layer.output for layer in model.layers]\n",
    "activation_model = tf.keras.models.Model(inputs = model.input, outputs = layer_outputs)"
   ],
   "metadata": {
    "collapsed": false,
    "pycharm": {
     "name": "#%%\n"
    }
   }
  },
  {
   "cell_type": "code",
   "execution_count": 46,
   "outputs": [
    {
     "data": {
      "text/plain": "<matplotlib.image.AxesImage at 0x23c09f6fe20>"
     },
     "execution_count": 46,
     "metadata": {},
     "output_type": "execute_result"
    },
    {
     "data": {
      "text/plain": "<Figure size 432x288 with 1 Axes>",
      "image/png": "[encoded data removed]"
     },
     "metadata": {
      "needs_background": "light"
     },
     "output_type": "display_data"
    }
   ],
   "source": [
    "layer_1 = model.layers[0]\n",
    "activation_layer1 = tf.keras.models.Model(inputs = model.input, outputs = layer_1.output)\n",
    "f1 = activation_layer1.predict(test_images[0].reshape(1, 28, 28, 1))\n",
    "import matplotlib.pyplot as plt\n",
    "plt.imshow(f1[0, : , :, 1], cmap='inferno')"
   ],
   "metadata": {
    "collapsed": false,
    "pycharm": {
     "name": "#%%\n"
    }
   }
  },
  {
   "cell_type": "code",
   "execution_count": 48,
   "outputs": [
    {
     "data": {
      "text/plain": "<matplotlib.image.AxesImage at 0x23c0a026250>"
     },
     "execution_count": 48,
     "metadata": {},
     "output_type": "execute_result"
    },
    {
     "data": {
      "text/plain": "<Figure size 432x288 with 1 Axes>",
      "image/png": "[encoded data removed]"
     },
     "metadata": {
      "needs_background": "light"
     },
     "output_type": "display_data"
    }
   ],
   "source": [
    "plt.imshow(f1[0, : , :, 2], cmap='inferno')\n",
    "\n"
   ],
   "metadata": {
    "collapsed": false,
    "pycharm": {
     "name": "#%%\n"
    }
   }
  },
  {
   "cell_type": "code",
   "execution_count": 49,
   "outputs": [
    {
     "data": {
      "text/plain": "<matplotlib.image.AxesImage at 0x23c0a089460>"
     },
     "execution_count": 49,
     "metadata": {},
     "output_type": "execute_result"
    },
    {
     "data": {
      "text/plain": "<Figure size 432x288 with 1 Axes>",
      "image/png": "[encoded data removed]"
     },
     "metadata": {
      "needs_background": "light"
     },
     "output_type": "display_data"
    }
   ],
   "source": [
    "plt.imshow(f1[0, : , :, 3], cmap='inferno')"
   ],
   "metadata": {
    "collapsed": false,
    "pycharm": {
     "name": "#%%\n"
    }
   }
  },
  {
   "cell_type": "code",
   "execution_count": 50,
   "outputs": [
    {
     "data": {
      "text/plain": "<matplotlib.image.AxesImage at 0x23c0a0f6790>"
     },
     "execution_count": 50,
     "metadata": {},
     "output_type": "execute_result"
    },
    {
     "data": {
      "text/plain": "<Figure size 432x288 with 1 Axes>",
      "image/png": "[encoded data removed]"
     },
     "metadata": {
      "needs_background": "light"
     },
     "output_type": "display_data"
    }
   ],
   "source": [
    "plt.imshow(f1[0, : , :, 4], cmap='inferno')"
   ],
   "metadata": {
    "collapsed": false,
    "pycharm": {
     "name": "#%%\n"
    }
   }
  },
  {
   "cell_type": "code",
   "execution_count": 51,
   "outputs": [
    {
     "data": {
      "text/plain": "<matplotlib.image.AxesImage at 0x23c0a151d90>"
     },
     "execution_count": 51,
     "metadata": {},
     "output_type": "execute_result"
    },
    {
     "data": {
      "text/plain": "<Figure size 432x288 with 1 Axes>",
      "image/png": "[encoded data removed]"
     },
     "metadata": {
      "needs_background": "light"
     },
     "output_type": "display_data"
    }
   ],
   "source": [
    "plt.imshow(f1[0, : , :, 5], cmap='inferno')"
   ],
   "metadata": {
    "collapsed": false,
    "pycharm": {
     "name": "#%%\n"
    }
   }
  },
  {
   "cell_type": "code",
   "execution_count": 52,
   "outputs": [
    {
     "data": {
      "text/plain": "<matplotlib.image.AxesImage at 0x23c0a1ad070>"
     },
     "execution_count": 52,
     "metadata": {},
     "output_type": "execute_result"
    },
    {
     "data": {
      "text/plain": "<Figure size 432x288 with 1 Axes>",
      "image/png": "[encoded data removed]"
     },
     "metadata": {
      "needs_background": "light"
     },
     "output_type": "display_data"
    }
   ],
   "source": [
    "plt.imshow(f1[0, : , :, 6], cmap='inferno')"
   ],
   "metadata": {
    "collapsed": false,
    "pycharm": {
     "name": "#%%\n"
    }
   }
  },
  {
   "cell_type": "code",
   "execution_count": 53,
   "outputs": [
    {
     "data": {
      "text/plain": "<matplotlib.image.AxesImage at 0x23c0a20c610>"
     },
     "execution_count": 53,
     "metadata": {},
     "output_type": "execute_result"
    },
    {
     "data": {
      "text/plain": "<Figure size 432x288 with 1 Axes>",
      "image/png": "[encoded data removed]"
     },
     "metadata": {
      "needs_background": "light"
     },
     "output_type": "display_data"
    }
   ],
   "source": [
    "plt.imshow(f1[0, : , :, 7], cmap='inferno')"
   ],
   "metadata": {
    "collapsed": false,
    "pycharm": {
     "name": "#%%\n"
    }
   }
  },
  {
   "cell_type": "code",
   "execution_count": 54,
   "outputs": [
    {
     "data": {
      "text/plain": "<Figure size 432x288 with 12 Axes>",
      "image/png": "[encoded data removed]"
     },
     "metadata": {
      "needs_background": "light"
     },
     "output_type": "display_data"
    }
   ],
   "source": [
    "f, axarr = plt.subplots(3,4)\n",
    "\n",
    "FIRST_IMAGE=0\n",
    "SECOND_IMAGE=23\n",
    "THIRD_IMAGE=28\n",
    "CONVOLUTION_NUMBER = 1\n",
    "\n",
    "layer_outputs = [layer.output for layer in model.layers]\n",
    "activation_model = tf.keras.models.Model(inputs = model.input, outputs = layer_outputs)\n",
    "\n",
    "for x in range(0,4):\n",
    "  f1 = activation_model.predict(test_images[FIRST_IMAGE].reshape(1, 28, 28, 1))[x]\n",
    "  axarr[0,x].imshow(f1[0, : , :, CONVOLUTION_NUMBER], cmap='inferno')\n",
    "  axarr[0,x].grid(False)\n",
    "\n",
    "  f2 = activation_model.predict(test_images[SECOND_IMAGE].reshape(1, 28, 28, 1))[x]\n",
    "  axarr[1,x].imshow(f2[0, : , :, CONVOLUTION_NUMBER], cmap='inferno')\n",
    "  axarr[1,x].grid(False)\n",
    "\n",
    "  f3 = activation_model.predict(test_images[THIRD_IMAGE].reshape(1, 28, 28, 1))[x]\n",
    "  axarr[2,x].imshow(f3[0, : , :, CONVOLUTION_NUMBER], cmap='inferno')\n",
    "  axarr[2,x].grid(False)"
   ],
   "metadata": {
    "collapsed": false,
    "pycharm": {
     "name": "#%%\n"
    }
   }
  },
  {
   "cell_type": "code",
   "execution_count": null,
   "outputs": [],
   "source": [],
   "metadata": {
    "collapsed": false,
    "pycharm": {
     "name": "#%%\n"
    }
   }
  },
  {
   "cell_type": "code",
   "execution_count": null,
   "outputs": [],
   "source": [],
   "metadata": {
    "collapsed": false,
    "pycharm": {
     "name": "#%%\n"
    }
   }
  },
  {
   "cell_type": "code",
   "execution_count": null,
   "outputs": [],
   "source": [],
   "metadata": {
    "collapsed": false,
    "pycharm": {
     "name": "#%%\n"
    }
   }
  }
 ],
 "metadata": {
  "kernelspec": {
   "display_name": "Python 3",
   "language": "python",
   "name": "python3"
  },
  "language_info": {
   "codemirror_mode": {
    "name": "ipython",
    "version": 2
   },
   "file_extension": ".py",
   "mimetype": "text/x-python",
   "name": "python",
   "nbconvert_exporter": "python",
   "pygments_lexer": "ipython2",
   "version": "2.7.6"
  }
 },
 "nbformat": 4,
 "nbformat_minor": 0
}