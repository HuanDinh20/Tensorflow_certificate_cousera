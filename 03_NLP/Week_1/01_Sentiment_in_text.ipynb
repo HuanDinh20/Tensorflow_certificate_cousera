{
 "cells": [
  {
   "cell_type": "code",
   "execution_count": 2,
   "outputs": [],
   "source": [
    "import tensorflow as tf\n",
    "from tensorflow import keras\n",
    "from tensorflow.keras.preprocessing.text import Tokenizer"
   ],
   "metadata": {
    "collapsed": false,
    "pycharm": {
     "name": "#%%\n"
    }
   }
  },
  {
   "cell_type": "markdown",
   "source": [
    "Tokenization is essentially splitting a phrase, sentence, paragraph, or an entire text document into smaller units, such as individual words or terms. Each of these smaller units are called tokens"
   ],
   "metadata": {
    "collapsed": false,
    "pycharm": {
     "name": "#%% md\n"
    }
   }
  },
  {
   "cell_type": "markdown",
   "source": [
    "In most NLP tasks, the initial step in preparing your data is to extract a vocabulary of words from your corpus (i.e. input texts). You will need to define how to represent the texts into numerical representations which can be used to train a neural network. These representations are called tokens and Tensorflow and Keras makes it easy to generate these using its APIs"
   ],
   "metadata": {
    "collapsed": false,
    "pycharm": {
     "name": "#%% md\n"
    }
   }
  },
  {
   "cell_type": "code",
   "execution_count": 17,
   "outputs": [],
   "source": [
    "sentences = [\"I love my dog\", \"I love my cat\", \"You love my dog!\"]\n",
    "#The punctuations dont have effect on tonkenize\n",
    "# numwork: \tthe maximum number of words to keep, based on word frequency. Only the most common num_words-1 words will be kept.\n",
    "# some time, less words will be the same on accuracy, but imporve huge in training time\n",
    "tokenizer = Tokenizer(num_words=100)"
   ],
   "metadata": {
    "collapsed": false,
    "pycharm": {
     "name": "#%%\n"
    }
   }
  },
  {
   "cell_type": "code",
   "execution_count": 18,
   "outputs": [
    {
     "data": {
      "text/plain": "['word_counts',\n 'word_docs',\n 'filters',\n 'split',\n 'lower',\n 'num_words',\n 'document_count',\n 'char_level',\n 'oov_token',\n 'index_docs',\n 'word_index',\n 'index_word',\n '__module__',\n '__doc__',\n '__init__',\n 'fit_on_texts',\n 'fit_on_sequences',\n 'texts_to_sequences',\n 'texts_to_sequences_generator',\n 'sequences_to_texts',\n 'sequences_to_texts_generator',\n 'texts_to_matrix',\n 'sequences_to_matrix',\n 'get_config',\n 'to_json',\n '__dict__',\n '__weakref__',\n '_keras_api_names',\n '_keras_api_names_v1',\n '__repr__',\n '__hash__',\n '__str__',\n '__getattribute__',\n '__setattr__',\n '__delattr__',\n '__lt__',\n '__le__',\n '__eq__',\n '__ne__',\n '__gt__',\n '__ge__',\n '__new__',\n '__reduce_ex__',\n '__reduce__',\n '__subclasshook__',\n '__init_subclass__',\n '__format__',\n '__sizeof__',\n '__dir__',\n '__class__']"
     },
     "execution_count": 18,
     "metadata": {},
     "output_type": "execute_result"
    }
   ],
   "source": [
    "tokenizer.fit_on_texts(sentences)\n",
    "tokenizer.__dir__()"
   ],
   "metadata": {
    "collapsed": false,
    "pycharm": {
     "name": "#%%\n"
    }
   }
  },
  {
   "cell_type": "code",
   "execution_count": 10,
   "outputs": [
    {
     "data": {
      "text/plain": "defaultdict(int, {'dog': 2, 'love': 3, 'i': 2, 'my': 3, 'cat': 1, 'you': 1})"
     },
     "execution_count": 10,
     "metadata": {},
     "output_type": "execute_result"
    }
   ],
   "source": [
    "tokenizer.word_docs"
   ],
   "metadata": {
    "collapsed": false,
    "pycharm": {
     "name": "#%%\n"
    }
   }
  },
  {
   "cell_type": "code",
   "execution_count": 11,
   "outputs": [
    {
     "data": {
      "text/plain": "{'love': 1, 'my': 2, 'i': 3, 'dog': 4, 'cat': 5, 'you': 6}"
     },
     "execution_count": 11,
     "metadata": {},
     "output_type": "execute_result"
    }
   ],
   "source": [
    "tokenizer.word_index"
   ],
   "metadata": {
    "collapsed": false,
    "pycharm": {
     "name": "#%%\n"
    }
   }
  },
  {
   "cell_type": "code",
   "execution_count": 12,
   "outputs": [],
   "source": [
    "tokenizer2 = Tokenizer(num_words=1)"
   ],
   "metadata": {
    "collapsed": false,
    "pycharm": {
     "name": "#%%\n"
    }
   }
  },
  {
   "cell_type": "code",
   "execution_count": 14,
   "outputs": [
    {
     "data": {
      "text/plain": "defaultdict(int, {'dog': 4, 'love': 6, 'i': 4, 'my': 6, 'cat': 2, 'you': 2})"
     },
     "execution_count": 14,
     "metadata": {},
     "output_type": "execute_result"
    }
   ],
   "source": [
    "tokenizer2.fit_on_texts(sentences)\n",
    "tokenizer2.word_docs"
   ],
   "metadata": {
    "collapsed": false,
    "pycharm": {
     "name": "#%%\n"
    }
   }
  },
  {
   "cell_type": "code",
   "execution_count": 15,
   "outputs": [
    {
     "data": {
      "text/plain": "defaultdict(int, {'dog': 2, 'love': 3, 'i': 2, 'my': 3, 'cat': 1, 'you': 1})"
     },
     "execution_count": 15,
     "metadata": {},
     "output_type": "execute_result"
    }
   ],
   "source": [
    "tokenizer3 = Tokenizer(num_words=2)\n",
    "tokenizer3.fit_on_texts(sentences)\n",
    "tokenizer3.word_docs"
   ],
   "metadata": {
    "collapsed": false,
    "pycharm": {
     "name": "#%%\n"
    }
   }
  },
  {
   "cell_type": "markdown",
   "source": [],
   "metadata": {
    "collapsed": false,
    "pycharm": {
     "name": "#%% md\n"
    }
   }
  },
  {
   "cell_type": "code",
   "execution_count": null,
   "outputs": [],
   "source": [],
   "metadata": {
    "collapsed": false,
    "pycharm": {
     "name": "#%%\n"
    }
   }
  }
 ],
 "metadata": {
  "kernelspec": {
   "display_name": "Python 3",
   "language": "python",
   "name": "python3"
  },
  "language_info": {
   "codemirror_mode": {
    "name": "ipython",
    "version": 2
   },
   "file_extension": ".py",
   "mimetype": "text/x-python",
   "name": "python",
   "nbconvert_exporter": "python",
   "pygments_lexer": "ipython2",
   "version": "2.7.6"
  }
 },
 "nbformat": 4,
 "nbformat_minor": 0
}