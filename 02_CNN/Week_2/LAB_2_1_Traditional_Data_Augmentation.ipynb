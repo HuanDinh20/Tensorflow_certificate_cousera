{
 "cells": [
  {
   "cell_type": "code",
   "execution_count": 18,
   "outputs": [],
   "source": [
    "import os\n",
    "# Assign training and validation set directories\n",
    "base_dir = './Week_1\\cats_and_dogs_filtered\\cats_and_dogs_filtered'\n",
    "train_dir = os.path.join(base_dir, 'train')\n",
    "validation_dir = os.path.join(base_dir, 'validation')\n",
    "\n",
    "# Directory with training cat pictures\n",
    "train_cats_dir = os.path.join(train_dir, 'cats')\n",
    "\n",
    "# Directory with training dog pictures\n",
    "train_dogs_dir = os.path.join(train_dir, 'dogs')\n",
    "\n",
    "# Directory with validation cat pictures\n",
    "validation_cats_dir = os.path.join(validation_dir, 'cats')\n",
    "\n",
    "# Directory with validation dog pictures\n",
    "validation_dogs_dir = os.path.join(validation_dir, 'dogs')"
   ],
   "metadata": {
    "collapsed": false,
    "pycharm": {
     "name": "#%%\n"
    }
   }
  },
  {
   "cell_type": "code",
   "execution_count": 19,
   "outputs": [
    {
     "data": {
      "text/plain": "True"
     },
     "execution_count": 19,
     "metadata": {},
     "output_type": "execute_result"
    }
   ],
   "source": [
    "os.path.isdir(train_dir)"
   ],
   "metadata": {
    "collapsed": false,
    "pycharm": {
     "name": "#%%\n"
    }
   }
  },
  {
   "cell_type": "code",
   "execution_count": 20,
   "outputs": [],
   "source": [
    "import tensorflow as tf\n",
    "from tensorflow.keras.optimizers import RMSprop\n",
    "from keras.models import Model, Input\n",
    "from keras.layers import Conv2D, MaxPool2D, Flatten, Dense"
   ],
   "metadata": {
    "collapsed": false,
    "pycharm": {
     "name": "#%%\n"
    }
   }
  },
  {
   "cell_type": "code",
   "execution_count": 26,
   "outputs": [],
   "source": [
    "def create_model():\n",
    "    inputs = Input(shape=(150, 150, 3))\n",
    "    x = Conv2D(32, (3,3), activation='relu')(inputs)\n",
    "    x = MaxPool2D(2, 2)(x)\n",
    "\n",
    "    x = Conv2D(64, (3,3), activation='relu')(x)\n",
    "    x = MaxPool2D(2, 2)(x)\n",
    "\n",
    "    x = Conv2D(128, (3,3), activation='relu')(x)\n",
    "    x = MaxPool2D(2, 2)(x)\n",
    "\n",
    "    x = Conv2D(128, (3,3), activation='relu')(x)\n",
    "    x = MaxPool2D(2, 2)(x)\n",
    "\n",
    "    x = Flatten()(x)\n",
    "    x = Dense(512, activation='relu')(x)\n",
    "    outputs = Dense(1, activation='sigmoid')(x)\n",
    "    model =  Model(inputs=inputs, outputs=outputs)\n",
    "    model.compile(optimizer=RMSprop(learning_rate=0.001),\n",
    "                  loss = 'binary_crossentropy',\n",
    "                  metrics = ['accuracy'])\n",
    "    return model"
   ],
   "metadata": {
    "collapsed": false,
    "pycharm": {
     "name": "#%%\n"
    }
   }
  },
  {
   "cell_type": "code",
   "execution_count": 32,
   "outputs": [
    {
     "name": "stdout",
     "output_type": "stream",
     "text": [
      "Found 2000 images belonging to 2 classes.\n",
      "Found 1000 images belonging to 2 classes.\n"
     ]
    }
   ],
   "source": [
    "from tensorflow.keras.preprocessing.image import ImageDataGenerator\n",
    "train_datagen = ImageDataGenerator(rescale=1/255)\n",
    "validation_datagen = ImageDataGenerator(rescale=1/255)\n",
    "train_generator =  train_datagen.flow_from_directory(\n",
    "    train_dir, batch_size=20, target_size=(150, 150),\n",
    "    class_mode='binary'\n",
    ")\n",
    "validation_generator =  validation_datagen.flow_from_directory(\n",
    "    validation_dir, batch_size=20, target_size=(150, 150),\n",
    "    class_mode='binary'\n",
    ")"
   ],
   "metadata": {
    "collapsed": false,
    "pycharm": {
     "name": "#%%\n"
    }
   }
  },
  {
   "cell_type": "code",
   "execution_count": 33,
   "outputs": [
    {
     "name": "stdout",
     "output_type": "stream",
     "text": [
      "Epoch 1/20\n",
      "100/100 - 22s - loss: 0.7404 - accuracy: 0.5200 - val_loss: 0.6472 - val_accuracy: 0.6030 - 22s/epoch - 220ms/step\n",
      "Epoch 2/20\n",
      "100/100 - 22s - loss: 0.6829 - accuracy: 0.5695 - val_loss: 0.6774 - val_accuracy: 0.5850 - 22s/epoch - 219ms/step\n",
      "Epoch 3/20\n",
      "100/100 - 21s - loss: 0.6500 - accuracy: 0.6545 - val_loss: 0.6220 - val_accuracy: 0.6540 - 21s/epoch - 214ms/step\n",
      "Epoch 4/20\n",
      "100/100 - 22s - loss: 0.5918 - accuracy: 0.6905 - val_loss: 0.5890 - val_accuracy: 0.6730 - 22s/epoch - 218ms/step\n",
      "Epoch 5/20\n",
      "100/100 - 22s - loss: 0.5393 - accuracy: 0.7270 - val_loss: 0.5794 - val_accuracy: 0.7210 - 22s/epoch - 216ms/step\n",
      "Epoch 6/20\n",
      "100/100 - 21s - loss: 0.4938 - accuracy: 0.7710 - val_loss: 0.5864 - val_accuracy: 0.7010 - 21s/epoch - 211ms/step\n",
      "Epoch 7/20\n",
      "100/100 - 22s - loss: 0.4409 - accuracy: 0.7925 - val_loss: 0.7053 - val_accuracy: 0.7100 - 22s/epoch - 219ms/step\n",
      "Epoch 8/20\n",
      "100/100 - 22s - loss: 0.3909 - accuracy: 0.8220 - val_loss: 0.5717 - val_accuracy: 0.7350 - 22s/epoch - 217ms/step\n",
      "Epoch 9/20\n",
      "100/100 - 21s - loss: 0.3347 - accuracy: 0.8525 - val_loss: 0.5922 - val_accuracy: 0.7280 - 21s/epoch - 211ms/step\n",
      "Epoch 10/20\n",
      "100/100 - 21s - loss: 0.2888 - accuracy: 0.8870 - val_loss: 0.7004 - val_accuracy: 0.7290 - 21s/epoch - 210ms/step\n",
      "Epoch 11/20\n",
      "100/100 - 21s - loss: 0.2396 - accuracy: 0.8955 - val_loss: 0.8016 - val_accuracy: 0.7180 - 21s/epoch - 215ms/step\n",
      "Epoch 12/20\n",
      "100/100 - 21s - loss: 0.1789 - accuracy: 0.9295 - val_loss: 0.9678 - val_accuracy: 0.7070 - 21s/epoch - 214ms/step\n",
      "Epoch 13/20\n",
      "100/100 - 21s - loss: 0.1534 - accuracy: 0.9385 - val_loss: 1.2013 - val_accuracy: 0.7000 - 21s/epoch - 213ms/step\n",
      "Epoch 14/20\n",
      "100/100 - 22s - loss: 0.1305 - accuracy: 0.9535 - val_loss: 0.9400 - val_accuracy: 0.7370 - 22s/epoch - 218ms/step\n",
      "Epoch 15/20\n",
      "100/100 - 22s - loss: 0.1076 - accuracy: 0.9630 - val_loss: 1.5157 - val_accuracy: 0.7350 - 22s/epoch - 219ms/step\n",
      "Epoch 16/20\n",
      "100/100 - 23s - loss: 0.1039 - accuracy: 0.9655 - val_loss: 1.6864 - val_accuracy: 0.7190 - 23s/epoch - 226ms/step\n",
      "Epoch 17/20\n",
      "100/100 - 21s - loss: 0.0947 - accuracy: 0.9690 - val_loss: 1.3105 - val_accuracy: 0.7240 - 21s/epoch - 214ms/step\n",
      "Epoch 18/20\n",
      "100/100 - 21s - loss: 0.0960 - accuracy: 0.9795 - val_loss: 2.0213 - val_accuracy: 0.7010 - 21s/epoch - 215ms/step\n",
      "Epoch 19/20\n",
      "100/100 - 22s - loss: 0.0633 - accuracy: 0.9800 - val_loss: 2.2012 - val_accuracy: 0.7360 - 22s/epoch - 217ms/step\n",
      "Epoch 20/20\n",
      "100/100 - 22s - loss: 0.0707 - accuracy: 0.9790 - val_loss: 1.7985 - val_accuracy: 0.7140 - 22s/epoch - 217ms/step\n"
     ]
    }
   ],
   "source": [
    "EPOCHS = 20\n",
    "model = create_model()\n",
    "history = model.fit(train_generator, epochs=EPOCHS, validation_data=validation_generator, validation_steps=50, verbose=2)"
   ],
   "metadata": {
    "collapsed": false,
    "pycharm": {
     "name": "#%%\n"
    }
   }
  },
  {
   "cell_type": "code",
   "execution_count": 29,
   "outputs": [],
   "source": [
    "import matplotlib.pyplot as plt\n",
    "\n",
    "def plot_loss_acc(history):\n",
    "  '''Plots the training and validation loss and accuracy from a history object'''\n",
    "  acc = history.history['accuracy']\n",
    "  val_acc = history.history['val_accuracy']\n",
    "  loss = history.history['loss']\n",
    "  val_loss = history.history['val_loss']\n",
    "\n",
    "  epochs = range(len(acc))\n",
    "\n",
    "  plt.plot(epochs, acc, 'bo', label='Training accuracy')\n",
    "  plt.plot(epochs, val_acc, 'b', label='Validation accuracy')\n",
    "  plt.title('Training and validation accuracy')\n",
    "\n",
    "  plt.figure()\n",
    "\n",
    "  plt.plot(epochs, loss, 'bo', label='Training Loss')\n",
    "  plt.plot(epochs, val_loss, 'b', label='Validation Loss')\n",
    "  plt.title('Training and validation loss')\n",
    "  plt.legend()\n",
    "\n",
    "  plt.show()"
   ],
   "metadata": {
    "collapsed": false,
    "pycharm": {
     "name": "#%%\n"
    }
   }
  },
  {
   "cell_type": "markdown",
   "source": [
    "## Data augmentation"
   ],
   "metadata": {
    "collapsed": false,
    "pycharm": {
     "name": "#%% md\n"
    }
   }
  },
  {
   "cell_type": "code",
   "execution_count": 30,
   "outputs": [
    {
     "name": "stdout",
     "output_type": "stream",
     "text": [
      "Found 2000 images belonging to 2 classes.\n",
      "Found 1000 images belonging to 2 classes.\n",
      "Epoch 1/20\n",
      "100/100 - 25s - loss: 0.7162 - accuracy: 0.5065 - val_loss: 0.6893 - val_accuracy: 0.5060 - 25s/epoch - 246ms/step\n",
      "Epoch 2/20\n",
      "100/100 - 23s - loss: 0.6875 - accuracy: 0.5780 - val_loss: 0.6921 - val_accuracy: 0.5600 - 23s/epoch - 234ms/step\n",
      "Epoch 3/20\n",
      "100/100 - 24s - loss: 0.6825 - accuracy: 0.6005 - val_loss: 0.6231 - val_accuracy: 0.6280 - 24s/epoch - 237ms/step\n",
      "Epoch 4/20\n",
      "100/100 - 26s - loss: 0.6573 - accuracy: 0.6200 - val_loss: 0.6363 - val_accuracy: 0.6200 - 26s/epoch - 260ms/step\n",
      "Epoch 5/20\n",
      "100/100 - 26s - loss: 0.6397 - accuracy: 0.6475 - val_loss: 0.6256 - val_accuracy: 0.6200 - 26s/epoch - 261ms/step\n",
      "Epoch 6/20\n",
      "100/100 - 26s - loss: 0.6404 - accuracy: 0.6485 - val_loss: 0.6419 - val_accuracy: 0.6350 - 26s/epoch - 262ms/step\n",
      "Epoch 7/20\n",
      "100/100 - 24s - loss: 0.6133 - accuracy: 0.6675 - val_loss: 0.6911 - val_accuracy: 0.6330 - 24s/epoch - 241ms/step\n",
      "Epoch 8/20\n",
      "100/100 - 25s - loss: 0.6151 - accuracy: 0.6755 - val_loss: 0.5810 - val_accuracy: 0.6870 - 25s/epoch - 249ms/step\n",
      "Epoch 9/20\n",
      "100/100 - 26s - loss: 0.6119 - accuracy: 0.6735 - val_loss: 0.5568 - val_accuracy: 0.6960 - 26s/epoch - 256ms/step\n",
      "Epoch 10/20\n",
      "100/100 - 24s - loss: 0.6317 - accuracy: 0.6755 - val_loss: 0.5825 - val_accuracy: 0.7080 - 24s/epoch - 244ms/step\n",
      "Epoch 11/20\n",
      "100/100 - 25s - loss: 0.5970 - accuracy: 0.6930 - val_loss: 0.5569 - val_accuracy: 0.7310 - 25s/epoch - 251ms/step\n",
      "Epoch 12/20\n",
      "100/100 - 26s - loss: 0.5820 - accuracy: 0.6870 - val_loss: 0.5510 - val_accuracy: 0.7200 - 26s/epoch - 257ms/step\n",
      "Epoch 13/20\n",
      "100/100 - 26s - loss: 0.6071 - accuracy: 0.6900 - val_loss: 0.5398 - val_accuracy: 0.7170 - 26s/epoch - 261ms/step\n",
      "Epoch 14/20\n",
      "100/100 - 24s - loss: 0.5759 - accuracy: 0.7150 - val_loss: 0.5619 - val_accuracy: 0.7050 - 24s/epoch - 237ms/step\n",
      "Epoch 15/20\n",
      "100/100 - 24s - loss: 0.5697 - accuracy: 0.7065 - val_loss: 0.5440 - val_accuracy: 0.7200 - 24s/epoch - 245ms/step\n",
      "Epoch 16/20\n",
      "100/100 - 25s - loss: 0.5514 - accuracy: 0.7275 - val_loss: 0.5135 - val_accuracy: 0.7470 - 25s/epoch - 246ms/step\n",
      "Epoch 17/20\n",
      "100/100 - 25s - loss: 0.5621 - accuracy: 0.7170 - val_loss: 0.5146 - val_accuracy: 0.7460 - 25s/epoch - 246ms/step\n",
      "Epoch 18/20\n",
      "100/100 - 25s - loss: 0.5703 - accuracy: 0.7135 - val_loss: 0.4998 - val_accuracy: 0.7570 - 25s/epoch - 245ms/step\n",
      "Epoch 19/20\n",
      "100/100 - 24s - loss: 0.5595 - accuracy: 0.7115 - val_loss: 0.4875 - val_accuracy: 0.7720 - 24s/epoch - 245ms/step\n",
      "Epoch 20/20\n",
      "100/100 - 24s - loss: 0.5428 - accuracy: 0.7225 - val_loss: 0.5240 - val_accuracy: 0.7730 - 24s/epoch - 238ms/step\n"
     ]
    }
   ],
   "source": [
    "model_aug = create_model()\n",
    "train_datagen = ImageDataGenerator(\n",
    "    rescale=1/255,\n",
    "    rotation_range=40,\n",
    "    width_shift_range=0.2,\n",
    "    height_shift_range=0.2,\n",
    "    shear_range=0.2,\n",
    "    zoom_range=0.2,\n",
    "    horizontal_flip=True,\n",
    "    fill_mode = 'nearest'\n",
    ")\n",
    "test_datagen = ImageDataGenerator(rescale=1/255)\n",
    "train_generator = train_datagen.flow_from_directory(train_dir, target_size=(150, 150),\n",
    "                                                    batch_size=20, class_mode='binary')\n",
    "validation_generator = test_datagen.flow_from_directory(validation_dir, target_size=(150, 150),\n",
    "                                                        batch_size=20, class_mode='binary')\n",
    "# Train the new model\n",
    "history_with_aug = model_aug.fit(\n",
    "      train_generator,\n",
    "      steps_per_epoch=100,  # 2000 images = batch_size * steps\n",
    "      epochs=EPOCHS,\n",
    "      validation_data=validation_generator,\n",
    "      validation_steps=50,  # 1000 images = batch_size * steps\n",
    "      verbose=2)"
   ],
   "metadata": {
    "collapsed": false,
    "pycharm": {
     "name": "#%%\n"
    }
   }
  },
  {
   "cell_type": "code",
   "execution_count": 31,
   "outputs": [
    {
     "data": {
      "text/plain": "<Figure size 432x288 with 1 Axes>",
      "image/png": "[encoded data removed]"
     },
     "metadata": {
      "needs_background": "light"
     },
     "output_type": "display_data"
    },
    {
     "data": {
      "text/plain": "<Figure size 432x288 with 1 Axes>",
      "image/png": "[encoded data removed]"
     },
     "metadata": {
      "needs_background": "light"
     },
     "output_type": "display_data"
    }
   ],
   "source": [
    "# Plot the results of training with data augmentation\n",
    "plot_loss_acc(history_with_aug)"
   ],
   "metadata": {
    "collapsed": false,
    "pycharm": {
     "name": "#%%\n"
    }
   }
  },
  {
   "cell_type": "code",
   "execution_count": 34,
   "outputs": [
    {
     "data": {
      "text/plain": "<Figure size 432x288 with 1 Axes>",
      "image/png": "[encoded data removed]"
     },
     "metadata": {
      "needs_background": "light"
     },
     "output_type": "display_data"
    },
    {
     "data": {
      "text/plain": "<Figure size 432x288 with 1 Axes>",
      "image/png": "[encoded data removed]"
     },
     "metadata": {
      "needs_background": "light"
     },
     "output_type": "display_data"
    }
   ],
   "source": [
    "# Plot the results of training without data augmentation\n",
    "plot_loss_acc(history)"
   ],
   "metadata": {
    "collapsed": false,
    "pycharm": {
     "name": "#%%\n"
    }
   }
  },
  {
   "cell_type": "code",
   "execution_count": null,
   "outputs": [],
   "source": [],
   "metadata": {
    "collapsed": false,
    "pycharm": {
     "name": "#%%\n"
    }
   }
  }
 ],
 "metadata": {
  "kernelspec": {
   "display_name": "Python 3",
   "language": "python",
   "name": "python3"
  },
  "language_info": {
   "codemirror_mode": {
    "name": "ipython",
    "version": 2
   },
   "file_extension": ".py",
   "mimetype": "text/x-python",
   "name": "python",
   "nbconvert_exporter": "python",
   "pygments_lexer": "ipython2",
   "version": "2.7.6"
  }
 },
 "nbformat": 4,
 "nbformat_minor": 0
}