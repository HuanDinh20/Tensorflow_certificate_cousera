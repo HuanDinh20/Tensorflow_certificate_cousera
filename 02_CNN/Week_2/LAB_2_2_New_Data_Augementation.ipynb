{
 "cells": [
  {
   "cell_type": "code",
   "execution_count": 10,
   "outputs": [],
   "source": [
    "import os\n",
    "# Assign training and validation set directories\n",
    "base_dir = '../Week_1\\cats_and_dogs_filtered\\cats_and_dogs_filtered'\n",
    "train_dir = os.path.join(base_dir, 'train')\n",
    "validation_dir = os.path.join(base_dir, 'validation')\n",
    "\n",
    "# Directory with training cat pictures\n",
    "train_cats_dir = os.path.join(train_dir, 'cats')\n",
    "\n",
    "# Directory with training dog pictures\n",
    "\n",
    "train_dogs_dir = os.path.join(train_dir, 'dogs')\n",
    "\n",
    "# Directory with validation cat pictures\n",
    "validation_cats_dir = os.path.join(validation_dir, 'cats')\n",
    "\n",
    "# Directory with validation dog pictures\n",
    "validation_dogs_dir = os.path.join(validation_dir, 'dogs')"
   ],
   "metadata": {
    "collapsed": false,
    "pycharm": {
     "name": "#%%\n"
    }
   }
  },
  {
   "cell_type": "code",
   "execution_count": 20,
   "outputs": [],
   "source": [
    "\n",
    "from tensorflow.keras.optimizers import RMSprop\n",
    "from keras.models import Model, Input\n",
    "from keras.layers import Conv2D, MaxPool2D, Flatten, Dense, Rescaling, RandomFlip, RandomHeight, RandomWidth, RandomZoom"
   ],
   "metadata": {
    "collapsed": false,
    "pycharm": {
     "name": "#%%\n"
    }
   }
  },
  {
   "cell_type": "code",
   "execution_count": 30,
   "outputs": [],
   "source": [
    "def create_model():\n",
    "    inputs = Input(shape=(150, 150, 3))\n",
    "    x = Rescaling(scale=1/255)(inputs)\n",
    "    x = RandomFlip()(x)\n",
    "    # x = RandomWidth(factor=(0.2, 0.3))(x)\n",
    "    # x = RandomHeight(factor=(0.2, 0.3) )(x)\n",
    "\n",
    "    x = Conv2D(32, (3,3), activation='relu')(x)\n",
    "    x = MaxPool2D(2, 2)(x)\n",
    "\n",
    "    x = Conv2D(64, (3,3), activation='relu')(x)\n",
    "    x = MaxPool2D(2, 2)(x)\n",
    "\n",
    "    x = Conv2D(128, (3,3), activation='relu')(x)\n",
    "    x = MaxPool2D(2, 2)(x)\n",
    "\n",
    "    x = Conv2D(128, (3,3), activation='relu')(x)\n",
    "    x = MaxPool2D(2, 2)(x)\n",
    "\n",
    "    x = Flatten()(x)\n",
    "    x = Dense(512, activation='relu')(x)\n",
    "    outputs = Dense(1, activation='sigmoid')(x)\n",
    "\n",
    "    model =  Model(inputs=inputs, outputs=outputs)\n",
    "    model.compile(optimizer=RMSprop(learning_rate=0.001),\n",
    "                  loss = 'binary_crossentropy',\n",
    "                  metrics = ['accuracy'])\n",
    "    return model"
   ],
   "metadata": {
    "collapsed": false,
    "pycharm": {
     "name": "#%%\n"
    }
   }
  },
  {
   "cell_type": "code",
   "execution_count": 32,
   "outputs": [
    {
     "name": "stdout",
     "output_type": "stream",
     "text": [
      "Found 2000 files belonging to 2 classes.\n",
      "Found 1000 files belonging to 2 classes.\n",
      "Epoch 1/10\n",
      "100/100 - 22s - loss: 0.7188 - accuracy: 0.5140 - val_loss: 0.6871 - val_accuracy: 0.5580 - 22s/epoch - 219ms/step\n",
      "Epoch 2/10\n",
      "100/100 - 22s - loss: 0.7008 - accuracy: 0.5440 - val_loss: 0.6874 - val_accuracy: 0.5060 - 22s/epoch - 224ms/step\n",
      "Epoch 3/10\n",
      "100/100 - 22s - loss: 0.6712 - accuracy: 0.6130 - val_loss: 0.7252 - val_accuracy: 0.5840 - 22s/epoch - 220ms/step\n",
      "Epoch 4/10\n",
      "100/100 - 22s - loss: 0.6459 - accuracy: 0.6370 - val_loss: 0.6236 - val_accuracy: 0.6590 - 22s/epoch - 218ms/step\n",
      "Epoch 5/10\n",
      "100/100 - 23s - loss: 0.6045 - accuracy: 0.6670 - val_loss: 0.6027 - val_accuracy: 0.6660 - 23s/epoch - 233ms/step\n",
      "Epoch 6/10\n",
      "100/100 - 22s - loss: 0.5869 - accuracy: 0.6950 - val_loss: 0.6033 - val_accuracy: 0.6690 - 22s/epoch - 225ms/step\n",
      "Epoch 7/10\n",
      "100/100 - 22s - loss: 0.5816 - accuracy: 0.6925 - val_loss: 0.5838 - val_accuracy: 0.7020 - 22s/epoch - 223ms/step\n",
      "Epoch 8/10\n",
      "100/100 - 22s - loss: 0.5655 - accuracy: 0.7100 - val_loss: 0.6513 - val_accuracy: 0.6750 - 22s/epoch - 220ms/step\n",
      "Epoch 9/10\n",
      "100/100 - 22s - loss: 0.5506 - accuracy: 0.7205 - val_loss: 0.5788 - val_accuracy: 0.7180 - 22s/epoch - 220ms/step\n",
      "Epoch 10/10\n",
      "100/100 - 22s - loss: 0.5327 - accuracy: 0.7340 - val_loss: 0.5965 - val_accuracy: 0.7070 - 22s/epoch - 217ms/step\n"
     ]
    }
   ],
   "source": [
    "from tensorflow.keras.preprocessing import image_dataset_from_directory\n",
    "train_data = image_dataset_from_directory(train_dir, labels='inferred',\n",
    "                                          batch_size=20,\n",
    "                                          image_size=(150, 150))\n",
    "val_data = image_dataset_from_directory(validation_dir, labels='inferred',\n",
    "                                        batch_size=20,\n",
    "                                        image_size=(150, 150)\n",
    "                                        )\n",
    "model = create_model()\n",
    "history = model.fit(train_data, epochs=10, validation_data=val_data , verbose=2)"
   ],
   "metadata": {
    "collapsed": false,
    "pycharm": {
     "name": "#%%\n"
    }
   }
  },
  {
   "cell_type": "code",
   "execution_count": null,
   "outputs": [],
   "source": [],
   "metadata": {
    "collapsed": false,
    "pycharm": {
     "name": "#%%\n"
    }
   }
  }
 ],
 "metadata": {
  "kernelspec": {
   "display_name": "Python 3",
   "language": "python",
   "name": "python3"
  },
  "language_info": {
   "codemirror_mode": {
    "name": "ipython",
    "version": 2
   },
   "file_extension": ".py",
   "mimetype": "text/x-python",
   "name": "python",
   "nbconvert_exporter": "python",
   "pygments_lexer": "ipython2",
   "version": "2.7.6"
  }
 },
 "nbformat": 4,
 "nbformat_minor": 0
}