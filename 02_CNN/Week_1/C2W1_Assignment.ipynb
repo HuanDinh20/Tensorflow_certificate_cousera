{
 "cells": [
  {
   "cell_type": "code",
   "execution_count": 21,
   "outputs": [],
   "source": [
    "import os\n",
    "import zipfile\n",
    "import glob\n",
    "import random\n",
    "import shutil\n",
    "import tensorflow as tf\n",
    "from keras.preprocessing.image import ImageDataGenerator, image_dataset_from_directory\n",
    "from shutil import copyfile\n",
    "import matplotlib.pyplot as plt"
   ],
   "metadata": {
    "collapsed": false,
    "pycharm": {
     "name": "#%%\n"
    }
   }
  },
  {
   "cell_type": "markdown",
   "source": [
    "# Download the Dataset"
   ],
   "metadata": {
    "collapsed": false,
    "pycharm": {
     "name": "#%% md\n"
    }
   }
  },
  {
   "cell_type": "markdown",
   "source": [
    "Download the dataset from its original source by running the cell below.\n",
    "Note that the zip file that contains the images is unzipped under the /tmp directory."
   ],
   "metadata": {
    "collapsed": false,
    "pycharm": {
     "name": "#%% md\n"
    }
   }
  },
  {
   "cell_type": "markdown",
   "source": [
    "if on Linux or colab:\n",
    "\n",
    "``!wget --no-check-certificate \\\n",
    "    \"https://download.microsoft.com/download/3/E/1/3E1C3F21-ECDB-4869-8368-6DEBA77B919F/kagglecatsanddogs_5340.zip\" \\\n",
    "    -O \"/tmp/cats-and-dogs.zip\"``"
   ],
   "metadata": {
    "collapsed": false,
    "pycharm": {
     "name": "#%% md\n"
    }
   }
  },
  {
   "cell_type": "markdown",
   "source": [
    "`!wget --no-check-certificate \"https://download.microsoftcom/download/3/E/1/3E1C3F21-ECDB-4869-8368-6DEBA77B919Fkagglecatsanddogs_5340.zip\" -O \"/tmp/cats-and-dogs.zip\"`"
   ],
   "metadata": {
    "collapsed": false,
    "pycharm": {
     "name": "#%% md\n"
    }
   }
  },
  {
   "cell_type": "code",
   "execution_count": 11,
   "outputs": [],
   "source": [
    "local_zip = 'A:\\huan_shit\\coursera\\Tf_Certificate\\CNN\\Week_1\\kagglecatsanddogs_5340.zip'\n",
    "zip_ref  = zipfile.ZipFile(local_zip, 'r')\n",
    "zip_ref.extractall('./')\n",
    "zip_ref.close()"
   ],
   "metadata": {
    "collapsed": false,
    "pycharm": {
     "name": "#%%\n"
    }
   }
  },
  {
   "cell_type": "code",
   "execution_count": 14,
   "outputs": [
    {
     "data": {
      "text/plain": "['img.png',\n 'CNN.ipynb',\n 'C2W1_Assignment.ipynb',\n 'kagglecatsanddogs_5340.zip',\n 'kagglecatsanddogs_5340',\n 'PetImages',\n 'readme[1].txt',\n 'CDLA-Permissive-2.0.pdf']"
     },
     "execution_count": 14,
     "metadata": {},
     "output_type": "execute_result"
    }
   ],
   "source": [
    "os.listdir(\"./\")"
   ],
   "metadata": {
    "collapsed": false,
    "pycharm": {
     "name": "#%%\n"
    }
   }
  },
  {
   "cell_type": "code",
   "execution_count": 13,
   "outputs": [
    {
     "data": {
      "text/plain": "['PetImages', 'readme[1].txt', 'CDLA-Permissive-2.0.pdf']"
     },
     "execution_count": 13,
     "metadata": {},
     "output_type": "execute_result"
    }
   ],
   "source": [
    "os.listdir(\"./kagglecatsanddogs_5340\")"
   ],
   "metadata": {
    "collapsed": false,
    "pycharm": {
     "name": "#%%\n"
    }
   }
  },
  {
   "cell_type": "markdown",
   "source": [
    "Now the images in stores  ./kagglecatsanddogs_5340/PetImages \\\n",
    "There is a subdirectory for each class, so one for dogs and one for cats."
   ],
   "metadata": {
    "collapsed": false,
    "pycharm": {
     "name": "#%% md\n"
    }
   }
  },
  {
   "cell_type": "code",
   "execution_count": 16,
   "outputs": [],
   "source": [
    "source_path = \"./kagglecatsanddogs_5340/PetImages\"\n",
    "source_path_dogs = os.path.join(source_path, \"Dog\")\n",
    "source_path_cats = os.path.join(source_path, \"Cat\")"
   ],
   "metadata": {
    "collapsed": false,
    "pycharm": {
     "name": "#%%\n"
    }
   }
  },
  {
   "cell_type": "code",
   "execution_count": 27,
   "outputs": [
    {
     "name": "stderr",
     "output_type": "stream",
     "text": [
      "Access denied - A:\\HUAN_SHIT\\COURSERA\\TF_CERTIFICATE\\CNN\\WEEK_1\\KAGGLECATSANDDOGS_5340\n",
      "File not found - -TYPE\n",
      "File not found - F\n",
      "File not found - !\n",
      "File not found - -NAME\n",
      "File not found - -EXEC\n",
      "File not found - RM\n",
      "File not found - {}\n",
      "File not found - +\n"
     ]
    }
   ],
   "source": [
    "!find A:\\huan_shit\\coursera\\Tf_Certificate\\CNN\\Week_1\\kagglecatsanddogs_5340 -type f ! -name \"*.jpg\" -exec rm {} +"
   ],
   "metadata": {
    "collapsed": false,
    "pycharm": {
     "name": "#%%\n"
    }
   }
  },
  {
   "cell_type": "code",
   "execution_count": 25,
   "outputs": [
    {
     "data": {
      "text/plain": "(12501, 12501)"
     },
     "execution_count": 25,
     "metadata": {},
     "output_type": "execute_result"
    }
   ],
   "source": [
    "len(os.listdir(source_path_dogs)), len(os.listdir(source_path_cats))"
   ],
   "metadata": {
    "collapsed": false,
    "pycharm": {
     "name": "#%%\n"
    }
   }
  },
  {
   "cell_type": "code",
   "execution_count": 56,
   "outputs": [
    {
     "data": {
      "text/plain": "11250"
     },
     "execution_count": 56,
     "metadata": {},
     "output_type": "execute_result"
    }
   ],
   "source": [
    "int(len(glob.glob(os.path.join(source_path_dogs, \"*.jpg\"))) *0.9)"
   ],
   "metadata": {
    "collapsed": false,
    "pycharm": {
     "name": "#%%\n"
    }
   }
  },
  {
   "cell_type": "code",
   "execution_count": 52,
   "outputs": [
    {
     "data": {
      "text/plain": "34448"
     },
     "execution_count": 52,
     "metadata": {},
     "output_type": "execute_result"
    }
   ],
   "source": [
    "dog_list = glob.glob(os.path.join(source_path_dogs, \"*.jpg\"))\n",
    "os.path.getsize(dog_list[0])"
   ],
   "metadata": {
    "collapsed": false,
    "pycharm": {
     "name": "#%%\n"
    }
   }
  },
  {
   "cell_type": "code",
   "execution_count": 58,
   "outputs": [
    {
     "name": "stdout",
     "output_type": "stream",
     "text": [
      "11702.jpg\n"
     ]
    }
   ],
   "source": [
    "for i in dog_list:\n",
    "  if os.path.getsize(i) == 0:\n",
    "    print(os.path.basename(i))"
   ],
   "metadata": {
    "collapsed": false,
    "pycharm": {
     "name": "#%%\n"
    }
   }
  },
  {
   "cell_type": "markdown",
   "source": [
    "#### Deletes all non-image files\n",
    "(there are two .db files bundled into the dataset)\n",
    "Cmd on window is hard to me, so 2 will using glob, to find *jpg images, instead of removing .db file\n"
   ],
   "metadata": {
    "collapsed": false,
    "pycharm": {
     "name": "#%% md\n"
    }
   }
  },
  {
   "cell_type": "code",
   "execution_count": 78,
   "outputs": [],
   "source": [
    "# Define root directory\n",
    "root_dir = './tmp/cats-v-dogs'\n",
    "\n",
    "# Empty directory to prevent FileExistsError is the function is run several times\n",
    "if os.path.exists(root_dir):\n",
    "  shutil.rmtree(root_dir)"
   ],
   "metadata": {
    "collapsed": false,
    "pycharm": {
     "name": "#%%\n"
    }
   }
  },
  {
   "cell_type": "markdown",
   "source": [
    "# Create folder for training and validation\n",
    "it should look like\n",
    "\n",
    "<img src=\"img.png\" width=480 height=240>"
   ],
   "metadata": {
    "collapsed": false,
    "pycharm": {
     "name": "#%% md\n"
    }
   }
  },
  {
   "cell_type": "code",
   "execution_count": 79,
   "outputs": [],
   "source": [
    "# GRADED FUNCTION: create_train_val_dirs\n",
    "def create_train_val_dirs(root_path):\n",
    "  \"\"\"\n",
    "  Creates directories for the train and test sets\n",
    "\n",
    "  Args:\n",
    "    root_path (string) - the base directory path to create subdirectories from\n",
    "\n",
    "  Returns:\n",
    "    None\n",
    "  \"\"\"\n",
    "  training = \"training\"\n",
    "  validation = \"validation\"\n",
    "  cats = \"cats\"\n",
    "  dogs =\"dogs\"\n",
    "  training_dir = os.path.join(root_path, training)\n",
    "  validation_dir = os.path.join(root_path, validation)\n",
    "  cats_val_dir = os.path.join(validation_dir, cats)\n",
    "  dogs_val_dir = os.path.join(validation_dir, dogs)\n",
    "  cats_train_dir = os.path.join(training_dir, cats)\n",
    "  dogs_train_dir = os.path.join(training_dir, dogs)\n",
    "  all_dir = [root_path, training_dir, validation_dir, cats_val_dir, dogs_val_dir, cats_train_dir, dogs_train_dir]\n",
    "  for sub_dir in all_dir:\n",
    "    if os.path.exists(sub_dir):\n",
    "        shutil.rmtree(sub_dir)\n",
    "    os.makedirs(sub_dir)\n",
    "try:\n",
    "  create_train_val_dirs(root_path=root_dir)\n",
    "except FileExistsError:\n",
    "  print(\"You should not be seeing this since the upper directory is removed beforehand\")"
   ],
   "metadata": {
    "collapsed": false,
    "pycharm": {
     "name": "#%%\n"
    }
   }
  },
  {
   "cell_type": "code",
   "execution_count": 88,
   "outputs": [
    {
     "name": "stdout",
     "output_type": "stream",
     "text": [
      "./tmp/cats-v-dogs\\training\n",
      "./tmp/cats-v-dogs\\validation\n",
      "./tmp/cats-v-dogs\\training\\cats\n",
      "./tmp/cats-v-dogs\\training\\dogs\n",
      "./tmp/cats-v-dogs\\validation\\cats\n",
      "./tmp/cats-v-dogs\\validation\\dogs\n"
     ]
    }
   ],
   "source": [
    "for rootdir, dirs, files in os.walk(root_dir):\n",
    "    for subdir in dirs:\n",
    "        print(os.path.join(rootdir, subdir))"
   ],
   "metadata": {
    "collapsed": false,
    "pycharm": {
     "name": "#%%\n"
    }
   }
  },
  {
   "cell_type": "code",
   "execution_count": 87,
   "outputs": [],
   "source": [
    "for i in os.scandir(rootdir):\n",
    "  print(i)"
   ],
   "metadata": {
    "collapsed": false,
    "pycharm": {
     "name": "#%%\n"
    }
   }
  },
  {
   "cell_type": "markdown",
   "source": [
    "## Move file from source to folder"
   ],
   "metadata": {
    "collapsed": false,
    "pycharm": {
     "name": "#%% md\n"
    }
   }
  },
  {
   "cell_type": "code",
   "execution_count": 105,
   "outputs": [],
   "source": [
    "def split_data(SOURCE_DIR, TRAINING_DIR,VALIDATION_DIR, SPLIT_SIZE):\n",
    "  image_path = glob.glob(os.path.join(SOURCE_DIR, \"*jpg\"))\n",
    "  image_path = random.sample(image_path, len(image_path))\n",
    "  total_image = len(image_path)\n",
    "  number_training_images = int(SPLIT_SIZE * total_image)\n",
    "  for idx, im_path in enumerate(image_path):\n",
    "    im_name = os.path.basename(im_path)\n",
    "    if os.path.getsize(im_path) == 0:\n",
    "      print(f\"{im_name} is zero length, so ignoring\")\n",
    "      continue\n",
    "    if idx <= number_training_images:\n",
    "      destination = os.path.join(TRAINING_DIR,im_name )\n",
    "      copyfile(im_path, destination)\n",
    "    else:\n",
    "      destination = os.path.join(VALIDATION_DIR,im_name )\n",
    "      copyfile(im_path, destination)\n"
   ],
   "metadata": {
    "collapsed": false,
    "pycharm": {
     "name": "#%%\n"
    }
   }
  },
  {
   "cell_type": "code",
   "execution_count": 106,
   "outputs": [
    {
     "name": "stdout",
     "output_type": "stream",
     "text": [
      "666.jpg is zero length, so ignoring\n",
      "11702.jpg is zero length, so ignoring\n",
      "\n",
      "\n",
      "Original cat's directory has 12501 images\n",
      "Original dog's directory has 12501 images\n",
      "\n",
      "There are 11250 images of cats for training\n",
      "There are 11250 images of dogs for training\n",
      "There are 1249 images of cats for validation\n",
      "There are 1249 images of dogs for validation\n"
     ]
    }
   ],
   "source": [
    "# Test your split_data function\n",
    "\n",
    "# Define paths\n",
    "CAT_SOURCE_DIR = r\"./PetImages/Cat\"\n",
    "DOG_SOURCE_DIR = \"./PetImages/Dog\"\n",
    "\n",
    "TRAINING_DIR = \"./tmp/cats-v-dogs/training\"\n",
    "VALIDATION_DIR = \"./tmp/cats-v-dogs/validation\"\n",
    "\n",
    "TRAINING_CATS_DIR = os.path.join(TRAINING_DIR, \"cats\")\n",
    "VALIDATION_CATS_DIR = os.path.join(VALIDATION_DIR, \"cats\")\n",
    "\n",
    "TRAINING_DOGS_DIR = os.path.join(TRAINING_DIR, \"dogs\")\n",
    "VALIDATION_DOGS_DIR = os.path.join(VALIDATION_DIR, \"dogs\")\n",
    "\n",
    "# Empty directories in case you run this cell multiple times\n",
    "if len(os.listdir(TRAINING_CATS_DIR)) > 0:\n",
    "  for file in os.scandir(TRAINING_CATS_DIR):\n",
    "    os.remove(file.path)\n",
    "if len(os.listdir(TRAINING_DOGS_DIR)) > 0:\n",
    "  for file in os.scandir(TRAINING_DOGS_DIR):\n",
    "    os.remove(file.path)\n",
    "if len(os.listdir(VALIDATION_CATS_DIR)) > 0:\n",
    "  for file in os.scandir(VALIDATION_CATS_DIR):\n",
    "    os.remove(file.path)\n",
    "if len(os.listdir(VALIDATION_DOGS_DIR)) > 0:\n",
    "  for file in os.scandir(VALIDATION_DOGS_DIR):\n",
    "    os.remove(file.path)\n",
    "\n",
    "# Define proportion of images used for training\n",
    "split_size = .9\n",
    "\n",
    "# Run the function\n",
    "# NOTE: Messages about zero length images should be printed out\n",
    "split_data(CAT_SOURCE_DIR, TRAINING_CATS_DIR, VALIDATION_CATS_DIR, split_size)\n",
    "split_data(DOG_SOURCE_DIR, TRAINING_DOGS_DIR, VALIDATION_DOGS_DIR, split_size)\n",
    "\n",
    "# Check that the number of images matches the expected output\n",
    "\n",
    "# Your function should perform copies rather than moving images so original directories should contain unchanged images\n",
    "print(f\"\\n\\nOriginal cat's directory has {len(os.listdir(CAT_SOURCE_DIR))} images\")\n",
    "print(f\"Original dog's directory has {len(os.listdir(DOG_SOURCE_DIR))} images\\n\")\n",
    "\n",
    "# Training and validation splits\n",
    "print(f\"There are {len(os.listdir(TRAINING_CATS_DIR))} images of cats for training\")\n",
    "print(f\"There are {len(os.listdir(TRAINING_DOGS_DIR))} images of dogs for training\")\n",
    "print(f\"There are {len(os.listdir(VALIDATION_CATS_DIR))} images of cats for validation\")\n",
    "print(f\"There are {len(os.listdir(VALIDATION_DOGS_DIR))} images of dogs for validation\")"
   ],
   "metadata": {
    "collapsed": false,
    "pycharm": {
     "name": "#%%\n"
    }
   }
  },
  {
   "cell_type": "markdown",
   "source": [
    "Now that you have successfully organized the data in a way that can be easily fed to Keras’ ImageDataGenerator, it is time for you to code the generators that will yield batches of images, both for training and validation. For this, complete the train_val_generators function below.\n",
    "Something important to note is that the images in this dataset come in a variety of resolutions. Luckily, the flow_from_directory method allows you to standarize this by defining a tuple called target_size that will be used to convert each image to this target resolution. For this exercise, use a target_size of (150, 150).\n",
    "Hint:\n",
    "Don’t use data augmentation by setting extra parameters when you instantiate the ImageDataGenerator class. This will make the training of your model to take longer to reach the necessary accuracy threshold to pass this assignment and this topic will be covered in the next week."
   ],
   "metadata": {
    "collapsed": false,
    "pycharm": {
     "name": "#%% md\n"
    }
   }
  },
  {
   "cell_type": "code",
   "execution_count": 113,
   "outputs": [],
   "source": [
    "# GRADED FUNCTION: train_val_generators\n",
    "def train_val_generators(TRAINING_DIR, VALIDATION_DIR):\n",
    "  \"\"\"\n",
    "  Creates the training and validation data generators\n",
    "\n",
    "  Args:\n",
    "    TRAINING_DIR (string): directory path containing the training images\n",
    "    VALIDATION_DIR (string): directory path containing the testing/validation images\n",
    "\n",
    "  Returns:\n",
    "    train_generator, validation_generator - tuple containing the generators\n",
    "  \"\"\"\n",
    "  ### START CODE HERE\n",
    "\n",
    "  # Instantiate the ImageDataGenerator class (don't forget to set the rescale argument)\n",
    "  train_datagen = None\n",
    "\n",
    "\n",
    "\n",
    "  # Pass in the appropiate arguments to the flow_from_directory method\n",
    "  train_generator = train_datagen.flow_from_directory(directory=None,\n",
    "                                                      batch_size=None,\n",
    "                                                      class_mode=None,\n",
    "                                                      target_size=(None, None))\n",
    "\n",
    "  # Instantiate the ImageDataGenerator class (don't forget to set the rescale argument)\n",
    "  validation_datagen = None\n",
    "\n",
    "  # Pass in the appropiate arguments to the flow_from_directory method\n",
    "  validation_generator = validation_datagen.flow_from_directory(directory=None,\n",
    "                                                                batch_size=None,\n",
    "                                                                class_mode=None,\n",
    "                                                                target_size=(None, None))\n",
    "  ### END CODE HERE\n",
    "  return train_generator, validation_generator\n",
    "# GRADED FUNCTION: train_val_generators\n",
    "def train_val_generators(TRAINING_DIR, VALIDATION_DIR):\n",
    "  \"\"\"\n",
    "  Creates the training and validation data generators\n",
    "\n",
    "  Args:\n",
    "    TRAINING_DIR (string): directory path containing the training images\n",
    "    VALIDATION_DIR (string): directory path containing the testing/validation images\n",
    "\n",
    "  Returns:\n",
    "    train_generator, validation_generator - tuple containing the generators\n",
    "  \"\"\"\n",
    "  ### START CODE HERE\n",
    "\n",
    "  # Instantiate the ImageDataGenerator class (don't forget to set the rescale argument)\n",
    "  train_datagen = ImageDataGenerator(rescale=1./255)\n",
    "\n",
    "\n",
    "\n",
    "\n",
    "  # Pass in the appropiate arguments to the flow_from_directory method\n",
    "  train_generator = train_datagen.flow_from_directory(directory=TRAINING_DIR,\n",
    "                                                      batch_size=32,\n",
    "                                                      class_mode='binary',\n",
    "                                                      target_size=(150, 150))\n",
    "\n",
    "  # Instantiate the ImageDataGenerator class (don't forget to set the rescale argument)\n",
    "  validation_datagen = ImageDataGenerator(rescale=1./255)\n",
    "\n",
    "  # Pass in the appropiate arguments to the flow_from_directory method\n",
    "  validation_generator = validation_datagen.flow_from_directory(directory=VALIDATION_DIR,\n",
    "                                                      batch_size=32,\n",
    "                                                      class_mode='binary',\n",
    "                                                      target_size=(150, 150))\n",
    "  ### END CODE HERE\n",
    "  return train_generator, validation_generator\n"
   ],
   "metadata": {
    "collapsed": false,
    "pycharm": {
     "name": "#%%\n"
    }
   }
  },
  {
   "cell_type": "code",
   "execution_count": 114,
   "outputs": [
    {
     "name": "stdout",
     "output_type": "stream",
     "text": [
      "Found 22500 images belonging to 2 classes.\n",
      "Found 2498 images belonging to 2 classes.\n"
     ]
    }
   ],
   "source": [
    "train_generator, validation_generator = train_val_generators(TRAINING_DIR, VALIDATION_DIR)"
   ],
   "metadata": {
    "collapsed": false,
    "pycharm": {
     "name": "#%%\n"
    }
   }
  },
  {
   "cell_type": "code",
   "execution_count": 137,
   "outputs": [],
   "source": [
    "# GRADED FUNCTION: create_model\n",
    "from keras.layers import Conv2D, Dense\n",
    "# from keras.optimizers import Adam\n",
    "def create_model():\n",
    "  # DEFINE A KERAS MODEL TO CLASSIFY CATS V DOGS\n",
    "  # USE AT LEAST 3 CONVOLUTION LAYERS\n",
    "\n",
    "  ### START CODE HERE\n",
    "  input_shape = (150, 150)\n",
    "  model = tf.keras.models.Sequential([\n",
    "    Conv2D(kernel_size=3, filters=8, activation=\"relu\", input_shape=(150, 150, 3)),\n",
    "    Conv2D(kernel_size=3, filters=16, activation=\"relu\"),\n",
    "    Conv2D(kernel_size=3, filters=32, activation=\"relu\"),\n",
    "    tf.keras.layers.Flatten(),\n",
    "    Dense(1, activation=\"softmax\")\n",
    "    ])\n",
    "\n",
    "\n",
    "  model.compile(optimizer='adam',\n",
    "                loss='binary_crossentropy',\n",
    "                metrics=['accuracy'])\n",
    "\n",
    "  ### END CODE HERE\n",
    "\n",
    "  return model"
   ],
   "metadata": {
    "collapsed": false,
    "pycharm": {
     "name": "#%%\n"
    }
   }
  },
  {
   "cell_type": "code",
   "execution_count": 137,
   "outputs": [],
   "source": [],
   "metadata": {
    "collapsed": false,
    "pycharm": {
     "name": "#%%\n"
    }
   }
  },
  {
   "cell_type": "code",
   "execution_count": 138,
   "outputs": [
    {
     "name": "stdout",
     "output_type": "stream",
     "text": [
      "Epoch 1/15\n",
      "262/704 [==========>...................] - ETA: 2:01 - loss: 0.7047 - accuracy: 0.4945"
     ]
    },
    {
     "name": "stderr",
     "output_type": "stream",
     "text": [
      "C:\\Users\\HOME\\anaconda3\\lib\\site-packages\\PIL\\TiffImagePlugin.py:819: UserWarning: Truncated File Read\n",
      "  warnings.warn(str(msg))\n"
     ]
    },
    {
     "name": "stdout",
     "output_type": "stream",
     "text": [
      "704/704 [==============================] - 227s 322ms/step - loss: 0.6117 - accuracy: 0.5000 - val_loss: 0.5210 - val_accuracy: 0.5000\n",
      "Epoch 2/15\n",
      "704/704 [==============================] - 209s 297ms/step - loss: 0.4080 - accuracy: 0.5000 - val_loss: 0.5162 - val_accuracy: 0.5000\n",
      "Epoch 3/15\n",
      "704/704 [==============================] - 209s 297ms/step - loss: 0.2015 - accuracy: 0.5000 - val_loss: 0.6935 - val_accuracy: 0.5000\n",
      "Epoch 4/15\n",
      "704/704 [==============================] - 209s 296ms/step - loss: 0.0650 - accuracy: 0.5000 - val_loss: 0.8603 - val_accuracy: 0.5000\n",
      "Epoch 5/15\n",
      "704/704 [==============================] - 206s 292ms/step - loss: 0.0285 - accuracy: 0.5000 - val_loss: 1.2426 - val_accuracy: 0.5000\n",
      "Epoch 6/15\n",
      "704/704 [==============================] - 207s 294ms/step - loss: 0.0286 - accuracy: 0.5000 - val_loss: 1.3841 - val_accuracy: 0.5000\n",
      "Epoch 7/15\n",
      "704/704 [==============================] - 206s 292ms/step - loss: 0.0191 - accuracy: 0.5000 - val_loss: 1.2211 - val_accuracy: 0.5000\n",
      "Epoch 8/15\n",
      "704/704 [==============================] - 213s 302ms/step - loss: 0.0235 - accuracy: 0.5000 - val_loss: 1.5990 - val_accuracy: 0.5000\n",
      "Epoch 9/15\n",
      "704/704 [==============================] - 205s 292ms/step - loss: 0.0215 - accuracy: 0.5000 - val_loss: 1.4530 - val_accuracy: 0.5000\n",
      "Epoch 10/15\n",
      "704/704 [==============================] - 207s 295ms/step - loss: 0.0079 - accuracy: 0.5000 - val_loss: 1.8480 - val_accuracy: 0.5000\n",
      "Epoch 11/15\n",
      "704/704 [==============================] - 203s 288ms/step - loss: 0.0121 - accuracy: 0.5000 - val_loss: 1.8328 - val_accuracy: 0.5000\n",
      "Epoch 12/15\n",
      "704/704 [==============================] - 222s 316ms/step - loss: 0.0093 - accuracy: 0.5000 - val_loss: 1.9495 - val_accuracy: 0.5000\n",
      "Epoch 13/15\n",
      "704/704 [==============================] - 211s 299ms/step - loss: 0.0302 - accuracy: 0.5000 - val_loss: 1.8518 - val_accuracy: 0.5000\n",
      "Epoch 14/15\n",
      "704/704 [==============================] - 206s 293ms/step - loss: 0.0134 - accuracy: 0.5000 - val_loss: 1.8437 - val_accuracy: 0.5000\n",
      "Epoch 15/15\n",
      "704/704 [==============================] - 208s 295ms/step - loss: 0.0102 - accuracy: 0.5000 - val_loss: 1.6770 - val_accuracy: 0.5000\n"
     ]
    }
   ],
   "source": [
    "# Get the untrained model\n",
    "model = create_model()\n",
    "\n",
    "# Train the model\n",
    "# Note that this may take some time.\n",
    "history = model.fit(train_generator,\n",
    "                    epochs=15,\n",
    "                    verbose=1,\n",
    "                    validation_data=validation_generator)"
   ],
   "metadata": {
    "collapsed": false,
    "pycharm": {
     "name": "#%%\n"
    }
   }
  },
  {
   "cell_type": "code",
   "execution_count": 139,
   "outputs": [
    {
     "data": {
      "text/plain": "<Figure size 432x288 with 1 Axes>",
      "image/png": "[encoded data removed]"
     },
     "metadata": {
      "needs_background": "light"
     },
     "output_type": "display_data"
    },
    {
     "name": "stdout",
     "output_type": "stream",
     "text": [
      "\n"
     ]
    },
    {
     "data": {
      "text/plain": "<Figure size 432x288 with 1 Axes>",
      "image/png": "[encoded data removed]"
     },
     "metadata": {
      "needs_background": "light"
     },
     "output_type": "display_data"
    }
   ],
   "source": [
    "#-----------------------------------------------------------\n",
    "# Retrieve a list of list results on training and test data\n",
    "# sets for each training epoch\n",
    "#-----------------------------------------------------------\n",
    "acc=history.history['accuracy']\n",
    "val_acc=history.history['val_accuracy']\n",
    "loss=history.history['loss']\n",
    "val_loss=history.history['val_loss']\n",
    "\n",
    "epochs=range(len(acc)) # Get number of epochs\n",
    "\n",
    "#------------------------------------------------\n",
    "# Plot training and validation accuracy per epoch\n",
    "#------------------------------------------------\n",
    "plt.plot(epochs, acc, 'r', \"Training Accuracy\")\n",
    "plt.plot(epochs, val_acc, 'b', \"Validation Accuracy\")\n",
    "plt.title('Training and validation accuracy')\n",
    "plt.show()\n",
    "print(\"\")\n",
    "\n",
    "#------------------------------------------------\n",
    "# Plot training and validation loss per epoch\n",
    "#------------------------------------------------\n",
    "plt.plot(epochs, loss, 'r', \"Training Loss\")\n",
    "plt.plot(epochs, val_loss, 'b', \"Validation Loss\")\n",
    "plt.show()"
   ],
   "metadata": {
    "collapsed": false,
    "pycharm": {
     "name": "#%%\n"
    }
   }
  },
  {
   "cell_type": "code",
   "execution_count": 140,
   "outputs": [],
   "source": [
    "import pickle\n",
    "with open('history.pkl', 'wb') as f:\n",
    "    pickle.dump(history.history, f)"
   ],
   "metadata": {
    "collapsed": false,
    "pycharm": {
     "name": "#%%\n"
    }
   }
  },
  {
   "cell_type": "code",
   "execution_count": null,
   "outputs": [],
   "source": [],
   "metadata": {
    "collapsed": false,
    "pycharm": {
     "name": "#%%\n"
    }
   }
  }
 ],
 "metadata": {
  "kernelspec": {
   "display_name": "Python 3",
   "language": "python",
   "name": "python3"
  },
  "language_info": {
   "codemirror_mode": {
    "name": "ipython",
    "version": 2
   },
   "file_extension": ".py",
   "mimetype": "text/x-python",
   "name": "python",
   "nbconvert_exporter": "python",
   "pygments_lexer": "ipython2",
   "version": "2.7.6"
  }
 },
 "nbformat": 4,
 "nbformat_minor": 0
}